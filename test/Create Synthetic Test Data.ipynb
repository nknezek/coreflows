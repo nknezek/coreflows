{
 "cells": [
  {
   "cell_type": "code",
   "execution_count": 1,
   "metadata": {},
   "outputs": [],
   "source": [
    "import sys\n",
    "import numpy as np\n",
    "import dill\n",
    "import matplotlib.pyplot as plt\n",
    "%matplotlib inline\n",
    "\n",
    "import coremagmodels as cm\n",
    "\n",
    "sys.path.append('../')\n",
    "import coreflows as cf\n",
    "sf = cf.advect.SteadyFlow()\n",
    "wv = cf.advect.Waves()"
   ]
  },
  {
   "cell_type": "markdown",
   "metadata": {},
   "source": [
    "# Create Synthetic Data to Analyze"
   ]
  },
  {
   "cell_type": "markdown",
   "metadata": {},
   "source": [
    "## Create background magnetic field"
   ]
  },
  {
   "cell_type": "code",
   "execution_count": 2,
   "metadata": {},
   "outputs": [],
   "source": [
    "plot_figures = False"
   ]
  },
  {
   "cell_type": "code",
   "execution_count": null,
   "metadata": {},
   "outputs": [],
   "source": [
    "magmod = cm.models.Chaos6()\n",
    "T_start = 2001\n",
    "T_end = 2015\n",
    "l_max = 18\n",
    "Nth = 18*2+2\n",
    "th, ph = magmod.get_thvec_phvec_DH(l_max=l_max)\n",
    "Nt = (T_end-T_start)*3\n",
    "T = np.linspace(T_start, T_end, Nt)"
   ]
  },
  {
   "cell_type": "code",
   "execution_count": 8,
   "metadata": {},
   "outputs": [],
   "source": [
    "# Import steady flows\n",
    "filename = '../coreflows/data/steady_flow_fortran_fit'\n",
    "th_sf,ph_sf,vth_sf,vph_sf = sf.import_fortran_flow_DH(filename)\n",
    "vth_sfSH = sf.v2vSH(vth_sf)\n",
    "vph_sfSH = sf.v2vSH(vph_sf)"
   ]
  },
  {
   "cell_type": "code",
   "execution_count": 10,
   "metadata": {},
   "outputs": [],
   "source": [
    "# Import and create analytic waves \n",
    "data = dill.load(open('/Users/nknezek/code/coreflows/coreflows/data/wavefits012.p','rb'))\n",
    "c012 = data['c012']\n",
    "f012 = data['f012']"
   ]
  },
  {
   "cell_type": "code",
   "execution_count": 11,
   "metadata": {},
   "outputs": [],
   "source": [
    "# compute magnetic field data over timeframe\n",
    "B_lmax = 18\n",
    "\n",
    "th, ph = magmod.get_thvec_phvec_DH(Nth)\n",
    "\n",
    "Bsh = magmod.get_sht_allT(T, l_max = B_lmax)\n",
    "B = magmod.B_sht_allT(Bsh, Nth=Nth, l_max=B_lmax)\n",
    "_, dthB, dphB = magmod.gradB_sht_allT(Bsh, Nth=Nth, l_max=B_lmax)\n",
    "\n",
    "SVsh = magmod.get_SVsht_allT(T, l_max=B_lmax)\n",
    "SV = magmod.B_sht_allT(SVsh, Nth=Nth, l_max=B_lmax)\n",
    "_, dthSV, dphSV = magmod.gradB_sht_allT(SVsh, Nth=Nth, l_max=B_lmax)\n",
    "\n",
    "SAsh = magmod.get_SAsht_allT(T, l_max=B_lmax)\n",
    "SA = magmod.B_sht_allT(SAsh, Nth=Nth, l_max=B_lmax)\n",
    "_, dthSA, dphSA = magmod.gradB_sht_allT(SAsh, Nth=Nth, l_max=B_lmax)\n",
    "\n",
    "if plot_figures:\n",
    "    i = 0\n",
    "    plt.figure(figsize=(16,8))\n",
    "    plt.subplot(131)\n",
    "    cm.plot.contourf_DH(B[i,:,:]/1e6, newfig=False, title='B {}'.format(T[i]), clbl='mT',zmax=1.2)\n",
    "    plt.subplot(132)\n",
    "    cm.plot.contourf_DH(SV[i,:,:]/1e3, newfig=False, title='SV {}'.format(T[i]), clbl='uT/yr',zmax=25)\n",
    "    plt.subplot(133)\n",
    "    cm.plot.contourf_DH(SA[i,:,:]/1e3, newfig=False, title='SA {}'.format(T[i]), clbl='uT/yr^2',zmax=2.)"
   ]
  },
  {
   "cell_type": "code",
   "execution_count": 12,
   "metadata": {},
   "outputs": [],
   "source": [
    "# compute magnetic field data over timeframe\n",
    "Bd_lmax = 1\n",
    "\n",
    "th, ph = magmod.get_thvec_phvec_DH(Nth)\n",
    "\n",
    "Bdsh = magmod.get_sht_allT(T, l_max = Bd_lmax)\n",
    "Bd = magmod.B_sht_allT(Bdsh, Nth=Nth, l_max=Bd_lmax)\n",
    "_, dthBd, dphBd = magmod.gradB_sht_allT(Bdsh, Nth=Nth, l_max=Bd_lmax)\n",
    "\n",
    "SVdsh = magmod.get_SVsht_allT(T, l_max=Bd_lmax)\n",
    "SVd = magmod.B_sht_allT(SVdsh, Nth=Nth, l_max=Bd_lmax)\n",
    "_, dthSVd, dphSVd = magmod.gradB_sht_allT(SVdsh, Nth=Nth, l_max=Bd_lmax)\n",
    "\n",
    "SAdsh = magmod.get_SAsht_allT(T, l_max=Bd_lmax)\n",
    "SAd = magmod.B_sht_allT(SAdsh, Nth=Nth, l_max=Bd_lmax)\n",
    "_, dthSAd, dphSAd = magmod.gradB_sht_allT(SAdsh, Nth=Nth, l_max=Bd_lmax)\n",
    "\n",
    "if plot_figures:\n",
    "    i = 0\n",
    "    plt.figure(figsize=(16,8))\n",
    "    plt.subplot(131)\n",
    "    cm.plot.contourf_DH(Bd[i,:,:]/1e6, newfig=False, title='Bd {}'.format(T[i]), clbl='mT')\n",
    "    plt.subplot(132)\n",
    "    cm.plot.contourf_DH(SVd[i,:,:]/1e3, newfig=False, title='SVd {}'.format(T[i]), clbl='uT/yr')\n",
    "    plt.subplot(133)\n",
    "    cm.plot.contourf_DH(SAd[i,:,:]/1e3, newfig=False, title='SAd {}'.format(T[i]), clbl='uT/yr^2')"
   ]
  },
  {
   "cell_type": "markdown",
   "metadata": {},
   "source": [
    "## SV and SA from Steady Flow"
   ]
  },
  {
   "cell_type": "code",
   "execution_count": 25,
   "metadata": {
    "collapsed": true
   },
   "outputs": [],
   "source": [
    "steadyflow_lmax = 14\n",
    "SV_steadyflow = sf.SV_steadyflow_allT(vth_sfSH, vph_sfSH, Bsh, magmodel=magmod, Nth=Nth, B_lmax=B_lmax, v_lmax=steadyflow_lmax)\n",
    "SV_resid = SV-SV_steadyflow\n",
    "\n",
    "SA_steadyflow = sf.SA_steadyflow_allT(vth_sfSH, vph_sfSH, SVsh, magmodel=magmod, Nth=Nth, B_lmax=B_lmax, v_lmax=steadyflow_lmax)\n",
    "SA_resid = SA- SA_steadyflow\n",
    "if plot_figures:\n",
    "    cm.plot.contourf_DH(SV_steadyflow[0,:,:]/1e3, title='SV from steady flow', clbl='uT/yr')\n",
    "    cm.plot.contourf_DH(SA_steadyflow[0,:,:]/1e3, title='SA from steady flow', clbl='uT/yr^2')"
   ]
  },
  {
   "cell_type": "markdown",
   "metadata": {},
   "source": [
    "## Simulated Wave SA and SV"
   ]
  },
  {
   "cell_type": "code",
   "execution_count": 26,
   "metadata": {
    "collapsed": true
   },
   "outputs": [],
   "source": [
    "l_w1 = 0\n",
    "m_w1 = 6\n",
    "delta_th_w1 = 8\n",
    "phase_w1 = 120\n",
    "period_w1 = 7.5\n",
    "vmax_w1 = 1.5 #km/yr\n",
    "dat_w1 = (l_w1, m_w1, period_w1, vmax_w1, phase_w1, delta_th_w1)\n",
    "\n",
    "vw1th, vw1ph, aw1th, aw1ph = wv.vel_accel_allT(dat_w1, T, c012, Nth)\n",
    "divvw1 = wv.div_allT(vw1th, vw1ph)\n",
    "divaw1 = wv.div_allT(aw1th, aw1ph)\n",
    "SVw1 = wv.SV_wave_allT(B, dthB, dphB, vw1th, vw1ph, divvw1)\n",
    "SAw1 = wv.SA_wave_fluidaccel_allT(B, dthB, dphB, aw1th, aw1ph, divaw1)\n",
    "SAw1 += wv.SA_wave_magSV_allT(SV, dthSV, dphSV, vw1th, vw1ph, divvw1)\n",
    "SAdw1 = wv.SA_wave_fluidaccel_allT(Bd, dthBd, dphBd, aw1th, aw1ph, divaw1)\n",
    "SVdw1 = wv.SV_wave_allT(Bd, dthBd, dphBd, vw1th, vw1ph, divvw1)\n",
    "\n",
    "if plot_figures:\n",
    "    plt.figure(figsize=(16,14))\n",
    "    i = -1\n",
    "    qarr_scale_mod = 1e-6\n",
    "    dq = 2\n",
    "    plt.subplot(321)\n",
    "    cm.plot.contourf_DH(divvw1[i,:,:], clbl='km/yr', newfig=False)\n",
    "    cm.plot.base_quiver(vw1th[i,::dq,::dq], vw1ph[i,::dq,::dq], newfig=False, qarr_scale_mod=qarr_scale_mod, qkey=1., title='Fluid Velocity from wave 1',)\n",
    "    plt.subplot(322)\n",
    "    cm.plot.contourf_DH(divaw1[i,:,:], clbl='km/yr^2', newfig=False)\n",
    "    cm.plot.base_quiver(aw1th[i,::dq,::dq], aw1ph[i,::dq,::dq], newfig=False, qarr_scale_mod=qarr_scale_mod, qkey=1., title='Fluid Acceleration Wave 1', )\n",
    "\n",
    "    plt.subplot(323)\n",
    "    cm.plot.contourf_DH(SVw1[i,:,:]/1e3, title='secular variation from wave 1', clbl='uT/yr', newfig=False)\n",
    "    plt.subplot(324)\n",
    "    cm.plot.contourf_DH(SAw1[i,:,:]/1e3, title='Secular Acceleration Wave 1', clbl='uT/yr^2', newfig=False)\n",
    "\n",
    "    plt.subplot(325)\n",
    "    cm.plot.contourf_DH(SVdw1[i,:,:]/1e3, title='secular variation from wave 1, Dipole', clbl='uT/yr', newfig=False)\n",
    "    plt.subplot(326)\n",
    "    cm.plot.contourf_DH(SAdw1[i,:,:]/1e3, title='Secular Acceleration Wave 1, Dipole', clbl='uT/yr^2', newfig=False)\n",
    "    plt.tight_layout()"
   ]
  },
  {
   "cell_type": "code",
   "execution_count": 27,
   "metadata": {
    "collapsed": true
   },
   "outputs": [],
   "source": [
    "l_w2 = 0\n",
    "m_w2 = 3\n",
    "delta_th_w2 = 14\n",
    "phase_w2 = 220\n",
    "period_w2 = 10.5\n",
    "vmax_w2 = 2\n",
    "dat_w2 = (l_w2, m_w2, period_w2, vmax_w2, phase_w2, delta_th_w2)\n",
    "\n",
    "vw2th, vw2ph, aw2th, aw2ph = wv.vel_accel_allT(dat_w2, T, c012, Nth)\n",
    "divvw2 = wv.div_allT(vw2th, vw2ph)\n",
    "divaw2 = wv.div_allT(aw2th, aw2ph)\n",
    "SVw2 = wv.SV_wave_allT(B, dthB, dphB, vw2th, vw2ph, divvw2)\n",
    "SAw2 = wv.SA_wave_fluidaccel_allT(B, dthB, dphB, aw2th, aw2ph, divaw2)\n",
    "SAw2 += wv.SA_wave_magSV_allT(SV, dthSV, dphSV, vw2th, vw2ph, divvw2)\n",
    "SAdw2 = wv.SA_wave_fluidaccel_allT(Bd, dthBd, dphBd, aw2th, aw2ph, divaw2)\n",
    "SVdw2 = wv.SV_wave_allT(Bd, dthBd, dphBd, vw2th, vw2ph, divvw2)\n",
    "\n",
    "if plot_figures:\n",
    "    plt.figure(figsize=(16,14))\n",
    "    i = -1\n",
    "    dq = 2\n",
    "    qarr_scale_mod = 1e-6\n",
    "    plt.subplot(321)\n",
    "    cm.plot.contourf_DH(divvw2[i,:,:], clbl='km/yr', newfig=False)\n",
    "    cm.plot.base_quiver(vw2th[i,::dq,::dq], vw2ph[i,::dq,::dq], newfig=False, qarr_scale_mod=qarr_scale_mod, qkey=1., title='Fluid Velocity from Wave 2')\n",
    "    plt.subplot(322)\n",
    "    cm.plot.contourf_DH(divaw2[i,:,:], clbl='km/yr^2', newfig=False)\n",
    "    cm.plot.base_quiver(aw2th[i,::dq,::dq], aw2ph[i,::dq,::dq], newfig=False, qarr_scale_mod=qarr_scale_mod, qkey=1., title='Fluid Acceleration Wave 2')\n",
    "\n",
    "    plt.subplot(323)\n",
    "    cm.plot.contourf_DH(SVw2[i,:,:]/1e3, title='secular variation from Wave 2', clbl='uT/yr', newfig=False)\n",
    "    plt.subplot(324)\n",
    "    cm.plot.contourf_DH(SAw2[i,:,:]/1e3, title='Secular Acceleration Wave 2', clbl='uT/yr^2', newfig=False)\n",
    "    plt.tight_layout()\n",
    "\n",
    "    plt.subplot(325)\n",
    "    cm.plot.contourf_DH(SVdw2[i,:,:]/1e3, title='secular variation from Wave 2, Dipole', clbl='uT/yr', newfig=False)\n",
    "    plt.subplot(326)\n",
    "    cm.plot.contourf_DH(SAdw2[i,:,:]/1e3, title='Secular Acceleration Wave 2, Dipole', clbl='uT/yr^2', newfig=False)\n",
    "    plt.tight_layout()"
   ]
  },
  {
   "cell_type": "code",
   "execution_count": 28,
   "metadata": {
    "collapsed": true
   },
   "outputs": [],
   "source": [
    "l_w3 = 1\n",
    "m_w3 = 6\n",
    "delta_th_w3 = 8\n",
    "phase_w3 = 50\n",
    "period_w3 = 8.5\n",
    "vmax_w3 = 2\n",
    "dat_w3 = (l_w3, m_w3, period_w3, vmax_w3, phase_w3, delta_th_w3)\n",
    "\n",
    "vw3th, vw3ph, aw3th, aw3ph = wv.vel_accel_allT(dat_w3, T, c012, Nth)\n",
    "divvw3 = wv.div_allT(vw3th, vw3ph)\n",
    "divaw3 = wv.div_allT(aw3th, aw3ph)\n",
    "SVw3 = wv.SV_wave_allT(B, dthB, dphB, vw3th, vw3ph, divvw3)\n",
    "SAw3 = wv.SA_wave_fluidaccel_allT(B, dthB, dphB, aw3th, aw3ph, divaw3)\n",
    "SAw3 += wv.SA_wave_magSV_allT(SV, dthSV, dphSV, vw3th, vw3ph, divvw3)\n",
    "SAdw3 = wv.SA_wave_fluidaccel_allT(Bd, dthBd, dphBd, aw3th, aw3ph, divaw3)\n",
    "SVdw3 = wv.SV_wave_allT(Bd, dthBd, dphBd, vw3th, vw3ph, divvw3)\n",
    "\n",
    "if plot_figures:\n",
    "    plt.figure(figsize=(16,14))\n",
    "    i = -1\n",
    "    dq = 2\n",
    "    qarr_scale_mod = 1e-6\n",
    "    plt.subplot(321)\n",
    "    cm.plot.contourf_DH(divvw3[i,:,:], clbl='km/yr', newfig=False)\n",
    "    cm.plot.base_quiver(vw3th[i,::dq,::dq], vw3ph[i,::dq,::dq], newfig=False, qarr_scale_mod=qarr_scale_mod, qkey=1., title='Fluid Velocity from Wave 2')\n",
    "    plt.subplot(322)\n",
    "    cm.plot.contourf_DH(divaw3[i,:,:], clbl='km/yr^2', newfig=False)\n",
    "    cm.plot.base_quiver(aw3th[i,::dq,::dq], aw3ph[i,::dq,::dq], newfig=False, qarr_scale_mod=qarr_scale_mod, qkey=1., title='Fluid Acceleration Wave 2')\n",
    "\n",
    "    plt.subplot(323)\n",
    "    cm.plot.contourf_DH(SVw3[i,:,:]/1e3, title='secular variation from Wave 2', clbl='uT/yr', newfig=False)\n",
    "    plt.subplot(324)\n",
    "    cm.plot.contourf_DH(SAw3[i,:,:]/1e3, title='Secular Acceleration Wave 2', clbl='uT/yr^2', newfig=False)\n",
    "    plt.tight_layout()\n",
    "\n",
    "    plt.subplot(325)\n",
    "    cm.plot.contourf_DH(SVdw3[i,:,:]/1e3, title='secular variation from Wave 2, Dipole', clbl='uT/yr', newfig=False)\n",
    "    plt.subplot(326)\n",
    "    cm.plot.contourf_DH(SAdw3[i,:,:]/1e3, title='Secular Acceleration Wave 2, Dipole', clbl='uT/yr^2', newfig=False)\n",
    "    plt.tight_layout()"
   ]
  },
  {
   "cell_type": "code",
   "execution_count": 29,
   "metadata": {
    "collapsed": true
   },
   "outputs": [],
   "source": [
    "l_w4 = 1\n",
    "m_w4 = -3\n",
    "delta_th_w4 = 18\n",
    "phase_w4 = 350\n",
    "period_w4 = 5.5\n",
    "vmax_w4 = 2.5\n",
    "dat_w4 = (l_w4, m_w4, period_w4, vmax_w4, phase_w4, delta_th_w4)\n",
    "\n",
    "vw4th, vw4ph, aw4th, aw4ph = wv.vel_accel_allT(dat_w4, T, c012, Nth)\n",
    "divvw4 = wv.div_allT(vw4th, vw4ph)\n",
    "divaw4 = wv.div_allT(aw4th, aw4ph)\n",
    "SVw4 = wv.SV_wave_allT(B, dthB, dphB, vw4th, vw4ph, divvw4)\n",
    "SAw4 = wv.SA_wave_fluidaccel_allT(B, dthB, dphB, aw4th, aw4ph, divaw4)\n",
    "SAw4 += wv.SA_wave_magSV_allT(SV, dthSV, dphSV, vw4th, vw4ph, divvw4)\n",
    "SAdw4 = wv.SA_wave_fluidaccel_allT(Bd, dthBd, dphBd, aw4th, aw4ph, divaw4)\n",
    "SVdw4 = wv.SV_wave_allT(Bd, dthBd, dphBd, vw4th, vw4ph, divvw4)\n",
    "\n",
    "if plot_figures:\n",
    "    plt.figure(figsize=(16,14))\n",
    "    i = -1\n",
    "    dq = 2\n",
    "    qarr_scale_mod = 1e-6\n",
    "    plt.subplot(321)\n",
    "    cm.plot.contourf_DH(divvw4[i,:,:], clbl='km/yr', newfig=False)\n",
    "    cm.plot.base_quiver(vw4th[i,::dq,::dq], vw4ph[i,::dq,::dq], newfig=False, qarr_scale_mod=qarr_scale_mod, qkey=1., title='Fluid Velocity from Wave 2')\n",
    "    plt.subplot(322)\n",
    "    cm.plot.contourf_DH(divaw4[i,:,:], clbl='km/yr^2', newfig=False)\n",
    "    cm.plot.base_quiver(aw4th[i,::dq,::dq], aw4ph[i,::dq,::dq], newfig=False, qarr_scale_mod=qarr_scale_mod, qkey=1., title='Fluid Acceleration Wave 2')\n",
    "\n",
    "    plt.subplot(323)\n",
    "    cm.plot.contourf_DH(SVw4[i,:,:]/1e3, title='secular variation from Wave 2', clbl='uT/yr', newfig=False)\n",
    "    plt.subplot(324)\n",
    "    cm.plot.contourf_DH(SAw4[i,:,:]/1e3, title='Secular Acceleration Wave 2', clbl='uT/yr^2', newfig=False)\n",
    "    plt.tight_layout()\n",
    "\n",
    "    plt.subplot(325)\n",
    "    cm.plot.contourf_DH(SVdw4[i,:,:]/1e3, title='secular variation from Wave 2, Dipole', clbl='uT/yr', newfig=False)\n",
    "    plt.subplot(326)\n",
    "    cm.plot.contourf_DH(SAdw4[i,:,:]/1e3, title='Secular Acceleration Wave 2, Dipole', clbl='uT/yr^2', newfig=False)\n",
    "    plt.tight_layout()"
   ]
  },
  {
   "cell_type": "code",
   "execution_count": 30,
   "metadata": {
    "collapsed": true
   },
   "outputs": [],
   "source": [
    "# all four waves in one dataset:\n",
    "SAw = SAw1 + SAw2 + SAw3 + SAw4\n",
    "SVw = SVw1 + SVw2 + SVw3 + SVw4\n",
    "SAdw = SAdw1 + SAdw2 + SAdw3 + SAdw4\n",
    "SVdw = SVdw1 + SVdw2 + SVdw3 + SVdw4"
   ]
  },
  {
   "cell_type": "code",
   "execution_count": 34,
   "metadata": {
    "collapsed": true
   },
   "outputs": [],
   "source": [
    "# Store the data\n",
    "data = {'T_start' : T_start \n",
    "        ,'T_end' : T_end\n",
    "        ,'T' : T\n",
    "        ,'l_max' : l_max\n",
    "        ,'Nth' : Nth\n",
    "        ,'th' : th\n",
    "        ,'ph' : ph\n",
    "        ,'Nt' : Nt\n",
    "        ,'B' : B\n",
    "        ,'Bd' : Bd\n",
    "        ,'Bsh' : Bsh\n",
    "        ,'Bdsh' : Bdsh\n",
    "        ,'SV' : SV\n",
    "        ,'SVd' : SVd\n",
    "        ,'SVsh' : SVsh\n",
    "        ,'SVdsh' : SVdsh\n",
    "        ,'dthB' : dthB\n",
    "        ,'dphB' : dphB\n",
    "        ,'dthBd' : dthBd\n",
    "        ,'dphBd' : dphBd\n",
    "        ,'dthSV' : dthSV\n",
    "        ,'dphSV' : dphSV\n",
    "        ,'dthSVd' : dthSVd\n",
    "        ,'dphSVd' : dphSVd\n",
    "        ,'SAw1' : SAw1\n",
    "        ,'SAw2' : SAw2\n",
    "        ,'SAw3' : SAw3\n",
    "        ,'SAw4' : SAw4\n",
    "        ,'SAw' : SAw\n",
    "        ,'SVw1' : SVw1\n",
    "        ,'SVw2' : SVw2\n",
    "        ,'SVw3' : SVw3\n",
    "        ,'SVw4' : SVw4\n",
    "        ,'SVw' : SVw\n",
    "        ,'SA_steadyflow' : SA_steadyflow\n",
    "        ,'SV_steadyflow' : SV_steadyflow\n",
    "        ,'dat_w1' : dat_w1\n",
    "        ,'dat_w2' : dat_w2\n",
    "        ,'dat_w3' : dat_w3\n",
    "        ,'dat_w4' : dat_w4\n",
    "        ,'wave_params': (dat_w1, dat_w2, dat_w3, dat_w4)\n",
    "        ,'SAdw1' : SAdw1\n",
    "        ,'SAdw2' : SAdw2\n",
    "        ,'SAdw3' : SAdw3\n",
    "        ,'SAdw4' : SAdw4\n",
    "        ,'SAdw' : SAdw\n",
    "        ,'SVdw1' : SVdw1\n",
    "        ,'SVdw2' : SVdw2\n",
    "        ,'SVdw3' : SVdw3\n",
    "        ,'SVdw4' : SVdw4\n",
    "        ,'SVdw' : SVdw}\n",
    "\n",
    "dill.dump(data, open('data_4_waves.m','wb'))"
   ]
  },
  {
   "cell_type": "code",
   "execution_count": null,
   "metadata": {
    "collapsed": true
   },
   "outputs": [],
   "source": []
  }
 ],
 "metadata": {
  "kernelspec": {
   "display_name": "Python 3",
   "language": "python",
   "name": "python3"
  },
  "language_info": {
   "codemirror_mode": {
    "name": "ipython",
    "version": 3
   },
   "file_extension": ".py",
   "mimetype": "text/x-python",
   "name": "python",
   "nbconvert_exporter": "python",
   "pygments_lexer": "ipython3",
   "version": "3.6.5"
  }
 },
 "nbformat": 4,
 "nbformat_minor": 2
}
